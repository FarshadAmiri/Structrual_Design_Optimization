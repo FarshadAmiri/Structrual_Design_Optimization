{
  "nbformat": 4,
  "nbformat_minor": 0,
  "metadata": {
    "colab": {
      "name": "HPO_1 Mahdi_Structures.ipynb",
      "provenance": [],
      "collapsed_sections": [],
      "authorship_tag": "ABX9TyOQ6Tp4+vBaiXIFFycVKpwb",
      "include_colab_link": true
    },
    "kernelspec": {
      "name": "python3",
      "display_name": "Python 3"
    }
  },
  "cells": [
    {
      "cell_type": "markdown",
      "metadata": {
        "id": "view-in-github",
        "colab_type": "text"
      },
      "source": [
        "<a href=\"https://colab.research.google.com/github/FarshadAmiri/Structural_Engineering/blob/master/HPO_1_Mahdi_Structures.ipynb\" target=\"_parent\"><img src=\"https://colab.research.google.com/assets/colab-badge.svg\" alt=\"Open In Colab\"/></a>"
      ]
    },
    {
      "cell_type": "code",
      "metadata": {
        "id": "Ug8cxiyuMTRJ"
      },
      "source": [
        "import numpy as np\r\n",
        "import pandas as pd\r\n",
        "import tensorflow as tf\r\n",
        "from tensorflow import keras\r\n",
        "from sklearn.model_selection import GridSearchCV\r\n",
        "import time"
      ],
      "execution_count": 163,
      "outputs": []
    },
    {
      "cell_type": "code",
      "metadata": {
        "id": "lS1SuhjfCaJR"
      },
      "source": [
        "# Dataset = pd.read_excel(r'https://github.com/FarshadAmiri/Structrual_Design_Optimization/blob/master/Dataset%20(213%20samples).xlsx?raw=true')\r\n",
        "Dataset = pd.read_excel(r'https://github.com/FarshadAmiri/Structural_Engineering/blob/master/D600.xlsx?raw=true')\r\n",
        "\r\n",
        "# Dataset = pd.read_excel(r'https://github.com/FarshadAmiri/Structural_Engineering/blob/master/D608-m.xlsx?raw=true')\r\n",
        "cols = ['Mu33','Mu22','Pu','L','Cb','Delta']\r\n",
        "\r\n",
        "for col in cols:\r\n",
        "    col_zscore = col + '_zscore'\r\n",
        "    Dataset[col_zscore] = (Dataset[col] - Dataset[col].mean())/Dataset[col].std(ddof=0)"
      ],
      "execution_count": 164,
      "outputs": []
    },
    {
      "cell_type": "code",
      "metadata": {
        "id": "bA2iF9WOCiUJ"
      },
      "source": [
        "#Defining Trainig data and Test Data\r\n",
        "shuffled_dataset = Dataset.reindex(np.random.permutation(Dataset.index))\r\n",
        "\r\n",
        "train_df = shuffled_dataset[:530]\r\n",
        "test_df  = shuffled_dataset[530:]"
      ],
      "execution_count": 165,
      "outputs": []
    },
    {
      "cell_type": "code",
      "metadata": {
        "id": "u-Srj-t-sAO6"
      },
      "source": [
        "#  assigning features and targets\r\n",
        "\r\n",
        "# x = np.column_stack((train_df.Mu33.values , train_df.Mu22.values, train_df.Pu.values, train_df.L.values, train_df.Cb.values, train_df.Delta.values, train_df.L1tb.values))\r\n",
        "# y = np.column_stack((train_df.h.values, train_df.b.values, train_df.tf.values, train_df.tw.values))\r\n",
        "\r\n",
        "# test_x = np.column_stack((test_df.Mu33.values , test_df.Mu22.values, test_df.Pu.values, test_df.L.values, test_df.Cb.values, test_df.Delta.values, test_df.L1tb.values))\r\n",
        "# test_y = np.column_stack((test_df.h.values, test_df.b.values, test_df.tf.values, test_df.tw.values))\r\n",
        "\r\n",
        "#Trying 'Z score'\r\n",
        "x = np.column_stack((train_df.Mu33_zscore.values , train_df.Mu22_zscore.values, train_df.Pu_zscore.values, train_df.L_zscore.values, train_df.Cb_zscore.values, train_df.Delta_zscore.values, train_df.L1tb.values))\r\n",
        "y = np.column_stack((train_df.h.values, train_df.b.values, train_df.tf.values, train_df.tw.values))\r\n",
        "\r\n",
        "test_x = np.column_stack((test_df.Mu33_zscore.values , test_df.Mu22_zscore.values, test_df.Pu_zscore.values, test_df.L_zscore.values, test_df.Cb_zscore.values, test_df.Delta_zscore.values,  test_df.L1tb.values))\r\n",
        "test_y = np.column_stack((test_df.h.values, test_df.b.values, test_df.tf.values, test_df.tw.values))"
      ],
      "execution_count": 166,
      "outputs": []
    },
    {
      "cell_type": "code",
      "metadata": {
        "id": "le9n4djpCpdv"
      },
      "source": [
        "# Function to create model; used by KerasRegressor\r\n",
        "def create_model(Lambda,LR,neurons):\r\n",
        "  Lambda = 0.001\r\n",
        "  LR = 0.002\r\n",
        "  neurons = 128\r\n",
        "\t# create model\r\n",
        "  model = keras.Sequential([\r\n",
        "    keras.layers.Dense(neurons,input_shape=(7,),activation='relu',kernel_regularizer= tf.keras.regularizers.L2(l2=Lambda)),\r\n",
        "    keras.layers.Dense(neurons,activation='relu', kernel_regularizer= tf.keras.regularizers.L2(l2=Lambda)),\r\n",
        "    keras.layers.Dense(neurons,activation='relu', kernel_regularizer= tf.keras.regularizers.L2(l2=Lambda)),\r\n",
        "    keras.layers.Dense(neurons,activation='relu', kernel_regularizer= tf.keras.regularizers.L2(l2=Lambda)),\r\n",
        "    keras.layers.Dense(neurons,activation='relu', kernel_regularizer= tf.keras.regularizers.L2(l2=Lambda)),\r\n",
        "    keras.layers.Dense(neurons,activation='relu', kernel_regularizer= tf.keras.regularizers.L2(l2=Lambda)),\r\n",
        "    keras.layers.Dense(4, activation='linear', kernel_regularizer= tf.keras.regularizers.L2(l2=Lambda))])\r\n",
        "  \r\n",
        "  model.compile(optimizer=tf.keras.optimizers.Adam(learning_rate=LR),loss = 'mse',\r\n",
        "                metrics = tf.keras.metrics.RootMeanSquaredError(name='rmse', dtype=None))\r\n",
        "  return model"
      ],
      "execution_count": 167,
      "outputs": []
    },
    {
      "cell_type": "code",
      "metadata": {
        "id": "JNdK0UVmCphv"
      },
      "source": [
        "# Create model\r\n",
        "estimator = tf.keras.wrappers.scikit_learn.KerasRegressor(build_fn=create_model\r\n",
        "                                                           , batch_size = 4, epochs=50\r\n",
        "                                                      #  , neurons , Lmabda , LR\r\n",
        "                                                          )\r\n",
        "# KerasRegressor\r\n",
        "# KerasClassifier\r\n",
        "\r\n",
        "# Define the grid serach parameters\r\n",
        "# neurons = [128,256,512]\r\n",
        "# Lambda = [0.001,0.005,0.01,0.015]\r\n",
        "# LR = [0.001,0.0015,0.002]\r\n",
        "# batch_size = [6,8,10]\r\n",
        "\r\n",
        "neurons = [128,256]\r\n",
        "Lambda = [0.001,0.01]\r\n",
        "LR = [0.001,0.002]\r\n",
        "\r\n",
        "# batch_size = [4,6,8]\r\n",
        "# epochs = [50, 80]\r\n",
        "param_grid = dict(LR = LR , neurons = neurons , Lambda = Lambda)"
      ],
      "execution_count": 168,
      "outputs": []
    },
    {
      "cell_type": "code",
      "metadata": {
        "colab": {
          "base_uri": "https://localhost:8080/"
        },
        "id": "gywY_q0Uqo0r",
        "outputId": "a0b85108-bed5-4164-d3f6-8b60360fa3a5"
      },
      "source": [
        "param_grid"
      ],
      "execution_count": 169,
      "outputs": [
        {
          "output_type": "execute_result",
          "data": {
            "text/plain": [
              "{'LR': [0.001, 0.002], 'Lambda': [0.001, 0.01], 'neurons': [128, 256]}"
            ]
          },
          "metadata": {
            "tags": []
          },
          "execution_count": 169
        }
      ]
    },
    {
      "cell_type": "code",
      "metadata": {
        "id": "GEzBpxXGnKsa",
        "colab": {
          "base_uri": "https://localhost:8080/"
        },
        "outputId": "ca30b418-6f3a-49d4-9d9e-a52ac6c0d650"
      },
      "source": [
        "grid = GridSearchCV(estimator=estimator, param_grid= param_grid , n_jobs=-1\r\n",
        "                    ,cv=5\r\n",
        "                    )\r\n",
        "grid_result = grid.fit(x,y)\r\n",
        "                      #  ,batch_size=6\r\n",
        "                      #  , epochs =50 \r\n",
        "                      #  ,validation_split=0.4\r\n",
        "                      #  )"
      ],
      "execution_count": 170,
      "outputs": [
        {
          "output_type": "stream",
          "text": [
            "Epoch 1/50\n",
            "133/133 [==============================] - 1s 2ms/step - loss: 595.0410 - rmse: 23.5466\n",
            "Epoch 2/50\n",
            "133/133 [==============================] - 0s 3ms/step - loss: 149.3234 - rmse: 12.1850\n",
            "Epoch 3/50\n",
            "133/133 [==============================] - 0s 2ms/step - loss: 126.4424 - rmse: 11.2191\n",
            "Epoch 4/50\n",
            "133/133 [==============================] - 0s 2ms/step - loss: 120.2185 - rmse: 10.9305\n",
            "Epoch 5/50\n",
            "133/133 [==============================] - 0s 2ms/step - loss: 87.0746 - rmse: 9.3016\n",
            "Epoch 6/50\n",
            "133/133 [==============================] - 0s 2ms/step - loss: 80.1370 - rmse: 8.8985\n",
            "Epoch 7/50\n",
            "133/133 [==============================] - 0s 2ms/step - loss: 70.4882 - rmse: 8.3214\n",
            "Epoch 8/50\n",
            "133/133 [==============================] - 0s 2ms/step - loss: 59.9736 - rmse: 7.7022\n",
            "Epoch 9/50\n",
            "133/133 [==============================] - 0s 2ms/step - loss: 88.5973 - rmse: 9.3744\n",
            "Epoch 10/50\n",
            "133/133 [==============================] - 0s 2ms/step - loss: 38.0624 - rmse: 6.1147\n",
            "Epoch 11/50\n",
            "133/133 [==============================] - 0s 2ms/step - loss: 49.8612 - rmse: 7.0141\n",
            "Epoch 12/50\n",
            "133/133 [==============================] - 0s 2ms/step - loss: 40.8350 - rmse: 6.3489\n",
            "Epoch 13/50\n",
            "133/133 [==============================] - 0s 2ms/step - loss: 71.0167 - rmse: 8.3454\n",
            "Epoch 14/50\n",
            "133/133 [==============================] - 0s 2ms/step - loss: 43.8649 - rmse: 6.5782\n",
            "Epoch 15/50\n",
            "133/133 [==============================] - 0s 2ms/step - loss: 40.5974 - rmse: 6.2927\n",
            "Epoch 16/50\n",
            "133/133 [==============================] - 0s 2ms/step - loss: 37.7944 - rmse: 6.1029\n",
            "Epoch 17/50\n",
            "133/133 [==============================] - 0s 2ms/step - loss: 49.2214 - rmse: 6.9534\n",
            "Epoch 18/50\n",
            "133/133 [==============================] - 0s 2ms/step - loss: 47.9866 - rmse: 6.8725\n",
            "Epoch 19/50\n",
            "133/133 [==============================] - 0s 2ms/step - loss: 36.0798 - rmse: 5.9349\n",
            "Epoch 20/50\n",
            "133/133 [==============================] - 0s 2ms/step - loss: 34.4719 - rmse: 5.8067\n",
            "Epoch 21/50\n",
            "133/133 [==============================] - 0s 2ms/step - loss: 30.8229 - rmse: 5.4846\n",
            "Epoch 22/50\n",
            "133/133 [==============================] - 0s 2ms/step - loss: 33.8903 - rmse: 5.7680\n",
            "Epoch 23/50\n",
            "133/133 [==============================] - 0s 3ms/step - loss: 30.3241 - rmse: 5.4453\n",
            "Epoch 24/50\n",
            "133/133 [==============================] - 0s 2ms/step - loss: 49.3465 - rmse: 6.8644\n",
            "Epoch 25/50\n",
            "133/133 [==============================] - 0s 2ms/step - loss: 48.5337 - rmse: 6.9095\n",
            "Epoch 26/50\n",
            "133/133 [==============================] - 0s 2ms/step - loss: 24.6300 - rmse: 4.8808\n",
            "Epoch 27/50\n",
            "133/133 [==============================] - 0s 2ms/step - loss: 30.5443 - rmse: 5.4727\n",
            "Epoch 28/50\n",
            "133/133 [==============================] - 0s 2ms/step - loss: 23.7568 - rmse: 4.8067\n",
            "Epoch 29/50\n",
            "133/133 [==============================] - 0s 2ms/step - loss: 25.8434 - rmse: 5.0173\n",
            "Epoch 30/50\n",
            "133/133 [==============================] - 0s 2ms/step - loss: 35.0527 - rmse: 5.8543\n",
            "Epoch 31/50\n",
            "133/133 [==============================] - 0s 2ms/step - loss: 26.9787 - rmse: 5.1098\n",
            "Epoch 32/50\n",
            "133/133 [==============================] - 0s 2ms/step - loss: 27.1003 - rmse: 5.1475\n",
            "Epoch 33/50\n",
            "133/133 [==============================] - 0s 2ms/step - loss: 22.1490 - rmse: 4.6222\n",
            "Epoch 34/50\n",
            "133/133 [==============================] - 0s 2ms/step - loss: 25.1196 - rmse: 4.9336\n",
            "Epoch 35/50\n",
            "133/133 [==============================] - 0s 2ms/step - loss: 25.0874 - rmse: 4.9479\n",
            "Epoch 36/50\n",
            "133/133 [==============================] - 0s 2ms/step - loss: 29.8364 - rmse: 5.4016\n",
            "Epoch 37/50\n",
            "133/133 [==============================] - 0s 2ms/step - loss: 23.2767 - rmse: 4.7351\n",
            "Epoch 38/50\n",
            "133/133 [==============================] - 0s 2ms/step - loss: 37.3432 - rmse: 6.0464\n",
            "Epoch 39/50\n",
            "133/133 [==============================] - 0s 2ms/step - loss: 28.3731 - rmse: 5.2682\n",
            "Epoch 40/50\n",
            "133/133 [==============================] - 0s 2ms/step - loss: 22.3482 - rmse: 4.6406\n",
            "Epoch 41/50\n",
            "133/133 [==============================] - 0s 2ms/step - loss: 18.5545 - rmse: 4.2205\n",
            "Epoch 42/50\n",
            "133/133 [==============================] - 0s 2ms/step - loss: 26.8571 - rmse: 5.0992\n",
            "Epoch 43/50\n",
            "133/133 [==============================] - 0s 2ms/step - loss: 24.1959 - rmse: 4.8363\n",
            "Epoch 44/50\n",
            "133/133 [==============================] - 0s 2ms/step - loss: 24.9102 - rmse: 4.8825\n",
            "Epoch 45/50\n",
            "133/133 [==============================] - 0s 2ms/step - loss: 23.3268 - rmse: 4.7472\n",
            "Epoch 46/50\n",
            "133/133 [==============================] - 0s 2ms/step - loss: 16.0109 - rmse: 3.9105\n",
            "Epoch 47/50\n",
            "133/133 [==============================] - 0s 2ms/step - loss: 22.8907 - rmse: 4.7120\n",
            "Epoch 48/50\n",
            "133/133 [==============================] - 0s 2ms/step - loss: 18.7795 - rmse: 4.2418\n",
            "Epoch 49/50\n",
            "133/133 [==============================] - 0s 2ms/step - loss: 20.7924 - rmse: 4.4793\n",
            "Epoch 50/50\n",
            "133/133 [==============================] - 0s 2ms/step - loss: 26.9737 - rmse: 5.0976\n"
          ],
          "name": "stdout"
        }
      ]
    },
    {
      "cell_type": "code",
      "metadata": {
        "id": "14OYLLybjLdT",
        "colab": {
          "base_uri": "https://localhost:8080/"
        },
        "outputId": "bce6e16a-ca33-4b48-8196-3e17846066ca"
      },
      "source": [
        "print(\"Best: %f using %s\" % (grid_result.best_score_, grid_result.best_params_))\r\n",
        "means = grid_result.cv_results_['mean_test_score']\r\n",
        "stds = grid_result.cv_results_['std_test_score']\r\n",
        "params = grid_result.cv_results_['params']\r\n",
        "for mean, stdev, param in zip(means, stds, params):\r\n",
        "    print(\"%f (%f) with: %r\" % (mean, stdev, param))"
      ],
      "execution_count": 171,
      "outputs": [
        {
          "output_type": "stream",
          "text": [
            "Best: -38.389209 using {'LR': 0.001, 'Lambda': 0.01, 'neurons': 256}\n",
            "-38.547319 (6.853880) with: {'LR': 0.001, 'Lambda': 0.001, 'neurons': 128}\n",
            "-43.695145 (11.374176) with: {'LR': 0.001, 'Lambda': 0.001, 'neurons': 256}\n",
            "-42.411367 (11.691872) with: {'LR': 0.001, 'Lambda': 0.01, 'neurons': 128}\n",
            "-38.389209 (5.507264) with: {'LR': 0.001, 'Lambda': 0.01, 'neurons': 256}\n",
            "-48.101289 (14.864439) with: {'LR': 0.002, 'Lambda': 0.001, 'neurons': 128}\n",
            "-47.458305 (8.563178) with: {'LR': 0.002, 'Lambda': 0.001, 'neurons': 256}\n",
            "-39.730132 (4.924150) with: {'LR': 0.002, 'Lambda': 0.01, 'neurons': 128}\n",
            "-42.283516 (9.430414) with: {'LR': 0.002, 'Lambda': 0.01, 'neurons': 256}\n"
          ],
          "name": "stdout"
        }
      ]
    }
  ]
}