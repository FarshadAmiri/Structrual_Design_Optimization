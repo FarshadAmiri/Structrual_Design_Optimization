{
  "nbformat": 4,
  "nbformat_minor": 0,
  "metadata": {
    "colab": {
      "name": "CrossVal1_mahdi_structures .ipynb",
      "provenance": [],
      "collapsed_sections": [],
      "authorship_tag": "ABX9TyNdoAR5v58PGgcG6WY6y08V",
      "include_colab_link": true
    },
    "kernelspec": {
      "name": "python3",
      "display_name": "Python 3"
    }
  },
  "cells": [
    {
      "cell_type": "markdown",
      "metadata": {
        "id": "view-in-github",
        "colab_type": "text"
      },
      "source": [
        "<a href=\"https://colab.research.google.com/github/FarshadAmiri/Structural_Engineering/blob/master/CrossVal1_mahdi_structures_.ipynb\" target=\"_parent\"><img src=\"https://colab.research.google.com/assets/colab-badge.svg\" alt=\"Open In Colab\"/></a>"
      ]
    },
    {
      "cell_type": "code",
      "metadata": {
        "id": "mZGyeIcywpp0"
      },
      "source": [
        "import tensorflow as tf\r\n",
        "from tensorflow import keras\r\n",
        "from sklearn.model_selection import KFold\r\n",
        "import pandas as pd\r\n",
        "from sklearn import metrics\r\n",
        "from scipy.stats import zscore\r\n",
        "import numpy as np\r\n",
        "import time"
      ],
      "execution_count": null,
      "outputs": []
    },
    {
      "cell_type": "code",
      "metadata": {
        "id": "_kox7yWiw_2p"
      },
      "source": [
        "# Dataset = pd.read_excel(r'https://github.com/FarshadAmiri/Structrual_Design_Optimization/blob/master/Dataset%20(213%20samples).xlsx?raw=true')\r\n",
        "Dataset = pd.read_excel(r'https://github.com/FarshadAmiri/Structural_Engineering/blob/master/D600.xlsx?raw=true')\r\n",
        "\r\n",
        "# Dataset = pd.read_excel(r'https://github.com/FarshadAmiri/Structural_Engineering/blob/master/D608-m.xlsx?raw=true')\r\n",
        "cols = ['Mu33','Mu22','Pu','L','Cb','Delta']\r\n",
        "\r\n",
        "for col in cols:\r\n",
        "    col_zscore = col + '_zscore'\r\n",
        "    Dataset[col_zscore] = (Dataset[col] - Dataset[col].mean())/Dataset[col].std(ddof=0)\r\n"
      ],
      "execution_count": null,
      "outputs": []
    },
    {
      "cell_type": "code",
      "metadata": {
        "id": "QpwI5oXRw_75"
      },
      "source": [
        "#Defining Trainig data and Test Data\r\n",
        "shuffled_dataset = Dataset.reindex(np.random.permutation(Dataset.index))\r\n",
        "\r\n",
        "train_df = shuffled_dataset[:605]\r\n",
        "test_df  = shuffled_dataset[530:]"
      ],
      "execution_count": null,
      "outputs": []
    },
    {
      "cell_type": "code",
      "metadata": {
        "id": "T2iRZPXY_vf_"
      },
      "source": [
        "# Assigning features and targets (z-score)\r\n",
        "x = np.column_stack((train_df.Mu33_zscore.values , train_df.Mu22_zscore.values, train_df.Pu_zscore.values, train_df.L_zscore.values, train_df.Cb_zscore.values, train_df.Delta_zscore.values, train_df.L1tb.values))\r\n",
        "y = np.column_stack((train_df.h.values, train_df.b.values, train_df.tf.values, train_df.tw.values))\r\n",
        "\r\n",
        "test_x = np.column_stack((test_df.Mu33_zscore.values , test_df.Mu22_zscore.values, test_df.Pu_zscore.values, test_df.L_zscore.values, test_df.Cb_zscore.values, test_df.Delta_zscore.values,  test_df.L1tb.values))\r\n",
        "test_y = np.column_stack((test_df.h.values, test_df.b.values, test_df.tf.values, test_df.tw.values))"
      ],
      "execution_count": null,
      "outputs": []
    },
    {
      "cell_type": "code",
      "metadata": {
        "id": "hTg9gM1bxEft"
      },
      "source": [
        "# K-fold cross validation\r\n",
        "kf = KFold(5, shuffle=True, random_state=42)"
      ],
      "execution_count": null,
      "outputs": []
    },
    {
      "cell_type": "code",
      "metadata": {
        "id": "4JeXZKJoDZnz"
      },
      "source": [
        "oos_y = []\r\n",
        "oos_pred = []"
      ],
      "execution_count": null,
      "outputs": []
    },
    {
      "cell_type": "code",
      "metadata": {
        "colab": {
          "base_uri": "https://localhost:8080/"
        },
        "id": "nZw0xECu_UZL",
        "outputId": "6a6605f5-a3ff-4881-9a22-e50f5067b186"
      },
      "source": [
        "fold = 0\r\n",
        "for train,val in kf.split(x):\r\n",
        "    fold+=1\r\n",
        "    print(f\"Fold #{fold}\")\r\n",
        "        \r\n",
        "    x_train = x[train]\r\n",
        "    y_train = y[train]\r\n",
        "    x_test = x[val]\r\n",
        "    y_test = y[val]\r\n",
        "\r\n",
        "\r\n",
        "    Lambda = 0.01\r\n",
        "    nn = 128\r\n",
        "    model = keras.Sequential([\r\n",
        "    keras.layers.Dense(nn,input_shape=(7,),activation='relu',kernel_regularizer= tf.keras.regularizers.L2(l2=Lambda)),\r\n",
        "    keras.layers.Dense(nn,activation='relu', kernel_regularizer= tf.keras.regularizers.L2(l2=Lambda)),\r\n",
        "    keras.layers.Dense(nn,activation='relu', kernel_regularizer= tf.keras.regularizers.L2(l2=Lambda)),\r\n",
        "    keras.layers.Dense(nn,activation='relu', kernel_regularizer= tf.keras.regularizers.L2(l2=Lambda)),\r\n",
        "    keras.layers.Dense(nn,activation='relu', kernel_regularizer= tf.keras.regularizers.L2(l2=Lambda)),\r\n",
        "    keras.layers.Dense(nn,activation='relu', kernel_regularizer= tf.keras.regularizers.L2(l2=Lambda)),\r\n",
        "    keras.layers.Dense(nn,activation='relu', kernel_regularizer= tf.keras.regularizers.L2(l2=Lambda)),\r\n",
        "    keras.layers.Dense(nn,activation='relu', kernel_regularizer= tf.keras.regularizers.L2(l2=Lambda)),\r\n",
        "    keras.layers.Dense(nn,activation='relu', kernel_regularizer= tf.keras.regularizers.L2(l2=Lambda)),\r\n",
        "    keras.layers.Dense(4, activation='linear', kernel_regularizer= tf.keras.regularizers.L2(l2=Lambda))])\r\n",
        "\r\n",
        "    model.compile(\r\n",
        "              optimizer=tf.keras.optimizers.Adam(learning_rate=0.002),\r\n",
        "              loss = 'mse',\r\n",
        "              metrics = tf.keras.metrics.RootMeanSquaredError(name='rmse', dtype=None)\r\n",
        "              # metrics=['accuracy']\r\n",
        "              )\r\n",
        "    \r\n",
        "    model.fit(x_train,y_train, validation_data=(x_test,y_test), verbose=0,\r\n",
        "              epochs=300)\r\n",
        "    \r\n",
        "    pred = model.predict(x_test)\r\n",
        "    \r\n",
        "    oos_y.append(y_test)\r\n",
        "    oos_pred.append(pred)    \r\n",
        "\r\n",
        "    # Measure this fold's RMSE\r\n",
        "    score = np.sqrt(metrics.mean_squared_error(pred,y_test))\r\n",
        "    print(f\"Fold score (RMSE): {score}\")"
      ],
      "execution_count": null,
      "outputs": [
        {
          "output_type": "stream",
          "text": [
            "Fold #1\n",
            "Fold score (RMSE): 5.217110123803416\n",
            "Fold #2\n",
            "Fold score (RMSE): 3.494557750176774\n",
            "Fold #3\n",
            "Fold score (RMSE): 4.9865179648227125\n",
            "Fold #4\n",
            "Fold score (RMSE): 5.552159674631867\n",
            "Fold #5\n",
            "Fold score (RMSE): 6.588827618888964\n"
          ],
          "name": "stdout"
        }
      ]
    },
    {
      "cell_type": "code",
      "metadata": {
        "colab": {
          "base_uri": "https://localhost:8080/"
        },
        "id": "-yFx4InvAdbY",
        "outputId": "27189078-0073-448c-9c5a-5488f5629f9b"
      },
      "source": [
        "# Build the oos prediction list and calculate the error.\r\n",
        "oos_y = np.concatenate(oos_y)\r\n",
        "oos_pred = np.concatenate(oos_pred)\r\n",
        "score = np.sqrt(metrics.mean_squared_error(oos_pred,oos_y))\r\n",
        "print(f\"Final, out of sample score (RMSE): {score}\")"
      ],
      "execution_count": null,
      "outputs": [
        {
          "output_type": "stream",
          "text": [
            "Final, out of sample score (RMSE): 5.263737451103628\n"
          ],
          "name": "stdout"
        }
      ]
    },
    {
      "cell_type": "code",
      "metadata": {
        "id": "QFWE7WAoEXqY"
      },
      "source": [
        "df = df = pd.DataFrame(data=None)\r\n",
        "oos_y = pd.DataFrame(oos_y,columns=['h','b','tf','tw'])\r\n",
        "oos_pred = pd.DataFrame(oos_pred,columns=['h_pred','b_pred','tf_pred','tw_pred'])\r\n",
        "oosDF = pd.concat( [df, oos_y, oos_pred],axis=1 )\r\n",
        "#oosDF.to_csv(filename_write,index=False)"
      ],
      "execution_count": null,
      "outputs": []
    },
    {
      "cell_type": "code",
      "metadata": {
        "colab": {
          "base_uri": "https://localhost:8080/",
          "height": 424
        },
        "id": "6LAq8Up9Dsl4",
        "outputId": "223311f8-baa7-4467-e395-79817a07e395"
      },
      "source": [
        "# OOS stands for Out of Sample data which is our validation data of each fold\r\n",
        "oosDF"
      ],
      "execution_count": null,
      "outputs": [
        {
          "output_type": "execute_result",
          "data": {
            "text/html": [
              "<div>\n",
              "<style scoped>\n",
              "    .dataframe tbody tr th:only-of-type {\n",
              "        vertical-align: middle;\n",
              "    }\n",
              "\n",
              "    .dataframe tbody tr th {\n",
              "        vertical-align: top;\n",
              "    }\n",
              "\n",
              "    .dataframe thead th {\n",
              "        text-align: right;\n",
              "    }\n",
              "</style>\n",
              "<table border=\"1\" class=\"dataframe\">\n",
              "  <thead>\n",
              "    <tr style=\"text-align: right;\">\n",
              "      <th></th>\n",
              "      <th>h</th>\n",
              "      <th>b</th>\n",
              "      <th>tf</th>\n",
              "      <th>tw</th>\n",
              "      <th>h_pred</th>\n",
              "      <th>b_pred</th>\n",
              "      <th>tf_pred</th>\n",
              "      <th>tw_pred</th>\n",
              "    </tr>\n",
              "  </thead>\n",
              "  <tbody>\n",
              "    <tr>\n",
              "      <th>0</th>\n",
              "      <td>31.1150</td>\n",
              "      <td>30.5816</td>\n",
              "      <td>1.7018</td>\n",
              "      <td>1.0922</td>\n",
              "      <td>27.209240</td>\n",
              "      <td>24.739487</td>\n",
              "      <td>2.188481</td>\n",
              "      <td>1.482775</td>\n",
              "    </tr>\n",
              "    <tr>\n",
              "      <th>1</th>\n",
              "      <td>15.2146</td>\n",
              "      <td>15.2146</td>\n",
              "      <td>0.6604</td>\n",
              "      <td>0.5842</td>\n",
              "      <td>15.570258</td>\n",
              "      <td>12.955834</td>\n",
              "      <td>1.081362</td>\n",
              "      <td>0.817800</td>\n",
              "    </tr>\n",
              "    <tr>\n",
              "      <th>2</th>\n",
              "      <td>56.9468</td>\n",
              "      <td>45.4406</td>\n",
              "      <td>12.4714</td>\n",
              "      <td>7.7978</td>\n",
              "      <td>57.176792</td>\n",
              "      <td>46.578362</td>\n",
              "      <td>11.946263</td>\n",
              "      <td>7.384623</td>\n",
              "    </tr>\n",
              "    <tr>\n",
              "      <th>3</th>\n",
              "      <td>97.1804</td>\n",
              "      <td>43.0911</td>\n",
              "      <td>6.1976</td>\n",
              "      <td>3.4544</td>\n",
              "      <td>99.394142</td>\n",
              "      <td>44.001816</td>\n",
              "      <td>7.335848</td>\n",
              "      <td>4.145467</td>\n",
              "    </tr>\n",
              "    <tr>\n",
              "      <th>4</th>\n",
              "      <td>86.8172</td>\n",
              "      <td>40.2844</td>\n",
              "      <td>3.5560</td>\n",
              "      <td>2.1082</td>\n",
              "      <td>99.066566</td>\n",
              "      <td>43.769409</td>\n",
              "      <td>3.262741</td>\n",
              "      <td>1.832905</td>\n",
              "    </tr>\n",
              "    <tr>\n",
              "      <th>...</th>\n",
              "      <td>...</td>\n",
              "      <td>...</td>\n",
              "      <td>...</td>\n",
              "      <td>...</td>\n",
              "      <td>...</td>\n",
              "      <td>...</td>\n",
              "      <td>...</td>\n",
              "      <td>...</td>\n",
              "    </tr>\n",
              "    <tr>\n",
              "      <th>595</th>\n",
              "      <td>97.7138</td>\n",
              "      <td>42.9514</td>\n",
              "      <td>8.9916</td>\n",
              "      <td>5.0038</td>\n",
              "      <td>95.356163</td>\n",
              "      <td>44.822880</td>\n",
              "      <td>8.616078</td>\n",
              "      <td>5.220346</td>\n",
              "    </tr>\n",
              "    <tr>\n",
              "      <th>596</th>\n",
              "      <td>60.2996</td>\n",
              "      <td>17.8816</td>\n",
              "      <td>1.4986</td>\n",
              "      <td>1.0922</td>\n",
              "      <td>56.170811</td>\n",
              "      <td>19.319082</td>\n",
              "      <td>1.583043</td>\n",
              "      <td>1.276423</td>\n",
              "    </tr>\n",
              "    <tr>\n",
              "      <th>597</th>\n",
              "      <td>99.9998</td>\n",
              "      <td>45.0850</td>\n",
              "      <td>3.5941</td>\n",
              "      <td>1.9050</td>\n",
              "      <td>91.925201</td>\n",
              "      <td>43.488888</td>\n",
              "      <td>4.072060</td>\n",
              "      <td>2.589909</td>\n",
              "    </tr>\n",
              "    <tr>\n",
              "      <th>598</th>\n",
              "      <td>107.8230</td>\n",
              "      <td>46.0502</td>\n",
              "      <td>11.5062</td>\n",
              "      <td>6.4008</td>\n",
              "      <td>100.282204</td>\n",
              "      <td>47.409351</td>\n",
              "      <td>11.223021</td>\n",
              "      <td>6.678576</td>\n",
              "    </tr>\n",
              "    <tr>\n",
              "      <th>599</th>\n",
              "      <td>14.9860</td>\n",
              "      <td>10.0076</td>\n",
              "      <td>0.5461</td>\n",
              "      <td>0.4318</td>\n",
              "      <td>31.080320</td>\n",
              "      <td>12.035418</td>\n",
              "      <td>0.631882</td>\n",
              "      <td>0.619323</td>\n",
              "    </tr>\n",
              "  </tbody>\n",
              "</table>\n",
              "<p>600 rows × 8 columns</p>\n",
              "</div>"
            ],
            "text/plain": [
              "            h        b       tf  ...     b_pred    tf_pred   tw_pred\n",
              "0     31.1150  30.5816   1.7018  ...  24.739487   2.188481  1.482775\n",
              "1     15.2146  15.2146   0.6604  ...  12.955834   1.081362  0.817800\n",
              "2     56.9468  45.4406  12.4714  ...  46.578362  11.946263  7.384623\n",
              "3     97.1804  43.0911   6.1976  ...  44.001816   7.335848  4.145467\n",
              "4     86.8172  40.2844   3.5560  ...  43.769409   3.262741  1.832905\n",
              "..        ...      ...      ...  ...        ...        ...       ...\n",
              "595   97.7138  42.9514   8.9916  ...  44.822880   8.616078  5.220346\n",
              "596   60.2996  17.8816   1.4986  ...  19.319082   1.583043  1.276423\n",
              "597   99.9998  45.0850   3.5941  ...  43.488888   4.072060  2.589909\n",
              "598  107.8230  46.0502  11.5062  ...  47.409351  11.223021  6.678576\n",
              "599   14.9860  10.0076   0.5461  ...  12.035418   0.631882  0.619323\n",
              "\n",
              "[600 rows x 8 columns]"
            ]
          },
          "metadata": {
            "tags": []
          },
          "execution_count": 30
        }
      ]
    }
  ]
}